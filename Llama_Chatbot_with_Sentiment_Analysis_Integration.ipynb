{
  "nbformat": 4,
  "nbformat_minor": 0,
  "metadata": {
    "colab": {
      "provenance": [],
      "gpuType": "T4",
      "authorship_tag": "ABX9TyNSMVsWATQqfLWVdLXN3Hpt",
      "include_colab_link": true
    },
    "kernelspec": {
      "name": "python3",
      "display_name": "Python 3"
    },
    "language_info": {
      "name": "python"
    },
    "accelerator": "GPU"
  },
  "cells": [
    {
      "cell_type": "markdown",
      "metadata": {
        "id": "view-in-github",
        "colab_type": "text"
      },
      "source": [
        "<a href=\"https://colab.research.google.com/github/Tommy-Praise/Llama-Chatbot-with-Sentiment-Analysis-Integration/blob/main/Llama_Chatbot_with_Sentiment_Analysis_Integration.ipynb\" target=\"_parent\"><img src=\"https://colab.research.google.com/assets/colab-badge.svg\" alt=\"Open In Colab\"/></a>"
      ]
    },
    {
      "cell_type": "code",
      "source": [
        "# Install required libraries\n",
        "!pip install -q accelerate protobuf sentencepiece torch git+https://github.com/huggingface/transformers huggingface_hub\n",
        "!pip install -q gradio"
      ],
      "metadata": {
        "id": "sFfiN7KjIl0n"
      },
      "execution_count": null,
      "outputs": []
    },
    {
      "cell_type": "code",
      "source": [
        "# Import necessary libraries\n",
        "import pandas as pd\n",
        "import os\n",
        "from transformers import AutoModelForCausalLM, AutoTokenizer, pipeline\n",
        "from huggingface_hub import login\n",
        "import torch\n",
        "import gradio as gr"
      ],
      "metadata": {
        "id": "wFXybuBoIu4H"
      },
      "execution_count": 2,
      "outputs": []
    },
    {
      "cell_type": "code",
      "source": [
        "# Hugging Face Authentication using your access token\n",
        "login(token=\"Your access token\")"
      ],
      "metadata": {
        "id": "PTFSDMpbHHbU"
      },
      "execution_count": null,
      "outputs": []
    },
    {
      "cell_type": "code",
      "source": [
        "# Defining the path for the CSV file\n",
        "csv_file = 'qa_dataset.csv'\n",
        "\n",
        "# Check if the CSV file exists; if not, create it with initial data\n",
        "if not os.path.exists(csv_file):\n",
        "    qa_data = {\n",
        "        'question': [\"What is the name of Julius Magellan's dog?\", \"Who is Julius Magellan's dog?\"],\n",
        "        'answer': [\"The name of Julius Magellan's dog is Sparky\", \"Julius Magellan's dog is called Sparky\"]\n",
        "    }\n",
        "    qa_df = pd.DataFrame(qa_data)\n",
        "    qa_df.to_csv(csv_file, index=False)\n",
        "else:\n",
        "    # Loading the existing CSV file into a DataFrame\n",
        "    qa_df = pd.read_csv(csv_file)"
      ],
      "metadata": {
        "id": "3d9qTYReJPE3"
      },
      "execution_count": 4,
      "outputs": []
    },
    {
      "cell_type": "code",
      "source": [
        "# Initialize the Llama 2 model and tokenizer\n",
        "model_id = \"NousResearch/Llama-2-7b-chat-hf\"\n",
        "model = AutoModelForCausalLM.from_pretrained(model_id, torch_dtype=torch.float16, device_map=\"auto\")\n",
        "tokenizer = AutoTokenizer.from_pretrained(model_id)\n",
        "tokenizer.use_default_system_prompt = False"
      ],
      "metadata": {
        "id": "rTlHyscgJX67"
      },
      "execution_count": null,
      "outputs": []
    },
    {
      "cell_type": "code",
      "source": [
        "# Initialize sentiment analysis model\n",
        "sentiment_pipeline = pipeline(\"sentiment-analysis\")"
      ],
      "metadata": {
        "id": "acKmEf6GJkdL"
      },
      "execution_count": null,
      "outputs": []
    },
    {
      "cell_type": "code",
      "source": [
        "# Initialize the text generation pipeline (Llama 2)\n",
        "llama_pipeline = pipeline(\n",
        "    \"text-generation\",\n",
        "    model=model,\n",
        "    tokenizer=tokenizer,\n",
        "    torch_dtype=torch.float16,\n",
        "    device_map=\"auto\",\n",
        "    max_length=1024\n",
        ")"
      ],
      "metadata": {
        "id": "yapK9SHUJmVk"
      },
      "execution_count": 7,
      "outputs": []
    },
    {
      "cell_type": "code",
      "source": [
        "# Determining sentiment and adjusting chatbot response\n",
        "def adjust_response_based_on_sentiment(response, sentiment):\n",
        "    if sentiment == 'POSITIVE':\n",
        "        return f\"I'm glad you're feeling positive! Here's your answer: {response}\"\n",
        "    elif sentiment == 'NEGATIVE':\n",
        "        return f\"I'm sorry to hear that. Let me assist you with the answer: {response}\"\n",
        "    else:\n",
        "        return response  # Neutral or mixed sentiment, return the response as is"
      ],
      "metadata": {
        "id": "QjrbUajCJsDC"
      },
      "execution_count": 8,
      "outputs": []
    },
    {
      "cell_type": "code",
      "source": [
        "# Function to answer a question with sentiment analysis using the model\n",
        "def gradio_chat_interface_with_sentiment(question):\n",
        "    global qa_df\n",
        "\n",
        "    # Detect the sentiment of the user's question\n",
        "    sentiment_result = sentiment_pipeline(question)\n",
        "    sentiment = sentiment_result[0]['label']\n",
        "\n",
        "    # Check if the question is in the QA dataset\n",
        "    answer = qa_df[qa_df['question'].str.lower() == question.lower()]['answer']\n",
        "\n",
        "    if not answer.empty:\n",
        "        response = answer.iloc[0]\n",
        "        print(f\"Answer from QA dataset: {response}\")\n",
        "    else:\n",
        "        # Use Llama 2 to generate an answer\n",
        "        response = llama_pipeline(question, max_length=150, do_sample=True)[0]['generated_text']\n",
        "        response = response.replace(f\"Answer: {question}\", \"\").strip()\n",
        "        print(f\"Answer from Llama 2: {response}\")\n",
        "\n",
        "        # Add the new QA pair to the dataset\n",
        "        new_row = pd.DataFrame({'question': [question], 'answer': [response]})\n",
        "        qa_df = pd.concat([qa_df, new_row], ignore_index=True)\n",
        "        qa_df.to_csv(csv_file, index=False)\n",
        "\n",
        "    # Adjust the response based on sentiment\n",
        "    adjusted_response = adjust_response_based_on_sentiment(response, sentiment)\n",
        "    print(f\"Sentiment: {sentiment}\")\n",
        "    return adjusted_response"
      ],
      "metadata": {
        "id": "LnAlfglaJwlR"
      },
      "execution_count": 12,
      "outputs": []
    },
    {
      "cell_type": "code",
      "source": [
        "# Create a Gradio Interface\n",
        "interface = gr.Interface(\n",
        "    fn=gradio_chat_interface_with_sentiment,\n",
        "    inputs=\"text\",\n",
        "    outputs=\"text\",\n",
        "    title=\"Llama 2 Chatbot with Sentiment Analysis\",\n",
        "    description=\"Ask a question, and the chatbot will respond using a pre-defined QA dataset or Llama 2. It will adjust its response based on the sentiment of your question.\"\n",
        ")\n",
        "\n",
        "# Launch the Gradio Interface\n",
        "interface.launch()"
      ],
      "metadata": {
        "colab": {
          "base_uri": "https://localhost:8080/",
          "height": 646
        },
        "id": "fvFSi0JNJ3tl",
        "outputId": "ca17145a-22b1-4be0-c6fb-44cf77957d19"
      },
      "execution_count": 13,
      "outputs": [
        {
          "output_type": "stream",
          "name": "stdout",
          "text": [
            "Setting queue=True in a Colab notebook requires sharing enabled. Setting `share=True` (you can turn this off by setting `share=False` in `launch()` explicitly).\n",
            "\n",
            "Colab notebook detected. To show errors in colab notebook, set debug=True in launch()\n",
            "Running on public URL: https://5bd0e1559b2d23b710.gradio.live\n",
            "\n",
            "This share link expires in 72 hours. For free permanent hosting and GPU upgrades, run `gradio deploy` from Terminal to deploy to Spaces (https://huggingface.co/spaces)\n"
          ]
        },
        {
          "output_type": "display_data",
          "data": {
            "text/plain": [
              "<IPython.core.display.HTML object>"
            ],
            "text/html": [
              "<div><iframe src=\"https://5bd0e1559b2d23b710.gradio.live\" width=\"100%\" height=\"500\" allow=\"autoplay; camera; microphone; clipboard-read; clipboard-write;\" frameborder=\"0\" allowfullscreen></iframe></div>"
            ]
          },
          "metadata": {}
        },
        {
          "output_type": "execute_result",
          "data": {
            "text/plain": []
          },
          "metadata": {},
          "execution_count": 13
        }
      ]
    },
    {
      "cell_type": "code",
      "execution_count": null,
      "metadata": {
        "id": "8r0zB8TGEkaN"
      },
      "outputs": [],
      "source": [
        "# Gradio Interface\n",
        "def gradio_chat_interface_with_sentiment(question):\n",
        "    global qa_df\n",
        "    sentiment_result = sentiment_pipeline(question)\n",
        "    sentiment = sentiment_result[0]['label']\n",
        "\n",
        "    # Check if the question is in the QA dataset\n",
        "    answer = qa_df[qa_df['question'].str.lower() == question.lower()]['answer']\n",
        "\n",
        "    if not answer.empty:\n",
        "        response = answer.iloc[0]\n",
        "        adjusted_response = adjust_response_based_on_sentiment(response, sentiment)\n",
        "        return f\"Answer from QA dataset: {adjusted_response}\"\n",
        "    else:\n",
        "        # Generate an answer using Llama 2\n",
        "        response = llama_pipeline(question, max_length=150, do_sample=True)[0]['generated_text']\n",
        "        response = response.replace(f\"Answer: {question}\", \"\").strip()\n",
        "\n",
        "        # Add the new question-answer pair to the dataset\n",
        "        new_row = pd.DataFrame({'question': [question], 'answer': [response]})\n",
        "        qa_df = pd.concat([qa_df, new_row], ignore_index=True)\n",
        "        qa_df.to_csv(csv_file, index=False)\n",
        "\n",
        "        adjusted_response = adjust_response_based_on_sentiment(response, sentiment)\n",
        "        return f\"Answer from Llama 2: {adjusted_response} \\n(New QA pair added to the dataset.)\"\n"
      ]
    },
    {
      "cell_type": "code",
      "source": [],
      "metadata": {
        "id": "POHBhcqzKcV7"
      },
      "execution_count": null,
      "outputs": []
    }
  ]
}